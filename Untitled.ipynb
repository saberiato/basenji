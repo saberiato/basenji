{
 "cells": [
  {
   "cell_type": "markdown",
   "id": "91985e5a-67a3-4f19-859b-5707b984b9ae",
   "metadata": {},
   "source": [
    "# Basenji\n",
    "**Sequential regulatory activity prediction across chromosomes with convolutional neural networks**\n",
    "Paper: [https://dx.doi.org/10.1101%2Fgr.227819.117]\n",
    "\n",
    "Implementations:\n",
    "* TensorFlow (Original): [https://github.com/calico/basenji]\n",
    "* Implementation based on PyTorch: [https://github.com/goodarzilab/Basenji-Pytorch]"
   ]
  },
  {
   "cell_type": "code",
   "execution_count": null,
   "id": "4110949b-bd6a-4083-ade2-e3339b17c257",
   "metadata": {},
   "outputs": [],
   "source": []
  }
 ],
 "metadata": {
  "kernelspec": {
   "display_name": "Python 3 (ipykernel)",
   "language": "python",
   "name": "python3"
  },
  "language_info": {
   "codemirror_mode": {
    "name": "ipython",
    "version": 3
   },
   "file_extension": ".py",
   "mimetype": "text/x-python",
   "name": "python",
   "nbconvert_exporter": "python",
   "pygments_lexer": "ipython3",
   "version": "3.8.10"
  }
 },
 "nbformat": 4,
 "nbformat_minor": 5
}
