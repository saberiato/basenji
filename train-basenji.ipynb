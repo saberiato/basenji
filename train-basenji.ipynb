{
 "cells": [
  {
   "cell_type": "code",
   "execution_count": 1,
   "id": "8cbacd5b-218f-47d1-81f8-666a50e69890",
   "metadata": {},
   "outputs": [],
   "source": [
    "# import os\n",
    "# os.chdir('basenji')\n",
    "\n",
    "## basenji\n",
    "## ├── data\n",
    "## │   └── MDA_MB_231_LM2.entire-gene.is-exon.dataset.required-cols.pkl\n",
    "## ├── model.py\n",
    "## ├── modules.py\n",
    "## └── train-basenji.ipynb"
   ]
  },
  {
   "cell_type": "code",
   "execution_count": 2,
   "id": "09435375-1114-4bd2-89f1-abf15af362a5",
   "metadata": {},
   "outputs": [],
   "source": [
    "import torch\n",
    "import numpy as np\n",
    "import random\n",
    "\n",
    "from model import Basenji\n",
    "from modules import Trainer"
   ]
  },
  {
   "cell_type": "code",
   "execution_count": 3,
   "id": "64ef9e87-a519-4d74-8674-04aaf64b9911",
   "metadata": {},
   "outputs": [],
   "source": [
    "device = 'cuda' if torch.cuda.is_available() else 'cpu'\n",
    "\n",
    "random_seed = 2022\n",
    "random.seed(random_seed)\n",
    "np.random.seed(random_seed)\n",
    "torch.manual_seed(random_seed)\n",
    "\n",
    "num_threads = 4\n",
    "torch.set_num_threads(num_threads)"
   ]
  },
  {
   "cell_type": "code",
   "execution_count": 4,
   "id": "fd36e544-4e44-4524-a269-0810f456e295",
   "metadata": {},
   "outputs": [],
   "source": [
    "data_path = 'data/MDA_MB_231_LM2.entire-gene.is-exon.dataset.required-cols.pkl'"
   ]
  },
  {
   "cell_type": "code",
   "execution_count": 5,
   "id": "c120760b-afbd-48f1-83fa-ca1410c51868",
   "metadata": {},
   "outputs": [],
   "source": [
    "param_vals = { \n",
    "    \"mode\": \"regression\", # \"classification\",\n",
    "    \"optimizer\" : \"Adam\", \n",
    "    \"init_lr\": 0.001, \n",
    "    \"optimizer_momentum\": 0.9, \n",
    "    \"weight_decay\": 1e-3, \n",
    "    \"loss\": \"binomial\", # \"bce\",\n",
    "    \"loss_reduction\": \"mean\",\n",
    "    \"num_targets\": 1,\n",
    "    \"seq_len\": 2**15, # 128*128*8,\n",
    "    \"min_seq_len\": 2**12,\n",
    "    \"max_seq_len\": 2**16,\n",
    "    \"target_window\": 1024*32,\n",
    "    \"batch_size\": 64, # 8\n",
    "    \"train_frac\": 0.8, # \"cut\": 0.8,\n",
    "    \"val_frac\": 0.1,\n",
    "    \"shuffle_data\": False,\n",
    "    \"num_workers\": 4, # 8,\n",
    "    \"num_epochs\": 100,\n",
    "}"
   ]
  },
  {
   "cell_type": "code",
   "execution_count": 6,
   "id": "d92e5106-1b92-4427-9105-1b500af9b632",
   "metadata": {},
   "outputs": [],
   "source": [
    "model = Basenji(debug=False, max_seq_len = param_vals['max_seq_len'])\n",
    "model.compile(device)"
   ]
  },
  {
   "cell_type": "code",
   "execution_count": null,
   "id": "8c3fb99a-1bd3-4761-a305-ef456a9d6a3f",
   "metadata": {},
   "outputs": [],
   "source": [
    "trainer = Trainer(param_vals, model, data_path)\n",
    "trainer.train(debug=False)"
   ]
  }
 ],
 "metadata": {
  "kernelspec": {
   "display_name": "Python 3 (ipykernel)",
   "language": "python",
   "name": "python3"
  },
  "language_info": {
   "codemirror_mode": {
    "name": "ipython",
    "version": 3
   },
   "file_extension": ".py",
   "mimetype": "text/x-python",
   "name": "python",
   "nbconvert_exporter": "python",
   "pygments_lexer": "ipython3",
   "version": "3.8.10"
  }
 },
 "nbformat": 4,
 "nbformat_minor": 5
}
