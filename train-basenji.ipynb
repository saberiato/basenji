{
 "cells": [
  {
   "cell_type": "code",
   "execution_count": 1,
   "id": "8cbacd5b-218f-47d1-81f8-666a50e69890",
   "metadata": {},
   "outputs": [],
   "source": [
    "# import os\n",
    "# os.chdir('basenji')\n",
    "\n",
    "## basenji\n",
    "## ├── data\n",
    "## │   └── MDA_MB_231_LM2.entire-gene.is-exon.dataset.required-cols.pkl\n",
    "## ├── model.py\n",
    "## ├── modules.py\n",
    "## └── train-basenji.ipynb"
   ]
  },
  {
   "cell_type": "code",
   "execution_count": 2,
   "id": "09435375-1114-4bd2-89f1-abf15af362a5",
   "metadata": {},
   "outputs": [],
   "source": [
    "import torch\n",
    "import numpy as np\n",
    "import pandas as pd\n",
    "import random\n",
    "\n",
    "# from models import Basenji\n",
    "# from modules import Trainer\n",
    "import models\n",
    "# import modules\n",
    "import modules_old\n",
    "\n",
    "%load_ext autoreload\n",
    "%autoreload 2"
   ]
  },
  {
   "cell_type": "code",
   "execution_count": 3,
   "id": "64ef9e87-a519-4d74-8674-04aaf64b9911",
   "metadata": {},
   "outputs": [],
   "source": [
    "torch.cuda.empty_cache()\n",
    "device = 'cuda' if torch.cuda.is_available() else 'cpu'\n",
    "\n",
    "random_seed = 2022\n",
    "random.seed(random_seed)\n",
    "np.random.seed(random_seed)\n",
    "torch.manual_seed(random_seed)\n",
    "\n",
    "num_threads = 4\n",
    "torch.set_num_threads(num_threads)"
   ]
  },
  {
   "cell_type": "code",
   "execution_count": 4,
   "id": "fd36e544-4e44-4524-a269-0810f456e295",
   "metadata": {},
   "outputs": [],
   "source": [
    "data_path = 'data/MDA_MB_231_LM2.entire-gene.is-exon.dataset.required-cols.pkl'\n",
    "# data_path = 'data/MDA_MB_231_LM2.entire-gene.is-exon.dataset.required-cols.csv'"
   ]
  },
  {
   "cell_type": "code",
   "execution_count": 5,
   "id": "c120760b-afbd-48f1-83fa-ca1410c51868",
   "metadata": {},
   "outputs": [],
   "source": [
    "param_vals = { \n",
    "    \"mode\": \"regression\", # \"classification\",\n",
    "    \"optimizer\" : \"Adam\", \n",
    "    \"init_lr\": 0.001, \n",
    "    \"optimizer_momentum\": 0.9, \n",
    "    \"weight_decay\": 1e-3, \n",
    "    \"loss\": \"binomial\", # \"bce\",\n",
    "    \"loss_reduction\": \"mean\",\n",
    "    \"num_targets\": 1,\n",
    "    \"seq_len\": 2**15, # 128*128*8,\n",
    "    \"min_seq_len\": 2**12,\n",
    "    \"max_seq_len\": 2**15,\n",
    "    \"target_window\": 1024*32,\n",
    "    \"batch_size\": 32, # 8\n",
    "    \"train_frac\": 0.8, # \"cut\": 0.8,\n",
    "    \"val_frac\": 0.1,\n",
    "    \"shuffle_data\": False,\n",
    "    \"n_thres\": 5,\n",
    "    \"num_workers\": 2, # 8,\n",
    "    \"num_epochs\": 100,\n",
    "    \"save_results\": True,\n",
    "    \"read_nrows\": 10000\n",
    "}"
   ]
  },
  {
   "cell_type": "code",
   "execution_count": 6,
   "id": "d92e5106-1b92-4427-9105-1b500af9b632",
   "metadata": {},
   "outputs": [],
   "source": [
    "model = models.Basenji(debug=False, max_seq_len = param_vals['max_seq_len'])\n",
    "# model = models.SplicingCodeWithDilation(max_seq_len = param_vals['max_seq_len'])\n",
    "model.compile(device)"
   ]
  },
  {
   "cell_type": "code",
   "execution_count": 8,
   "id": "8c3fb99a-1bd3-4761-a305-ef456a9d6a3f",
   "metadata": {},
   "outputs": [
    {
     "name": "stdout",
     "output_type": "stream",
     "text": [
      "init dsets\n"
     ]
    }
   ],
   "source": [
    "# trainer = modules.Trainer(param_vals, model, data_path)\n",
    "trainer = modules_old.Trainer(param_vals, model, data_path)\n",
    "# trainer.train(debug=False)"
   ]
  },
  {
   "cell_type": "markdown",
   "id": "73632bef-574f-4636-a14c-aa6af8d59a84",
   "metadata": {},
   "source": [
    "### Measure Uncertainty using Dropout while Evaluation"
   ]
  },
  {
   "cell_type": "code",
   "execution_count": 9,
   "id": "9c678e34-8787-471f-b0ff-0ca0d41c608a",
   "metadata": {},
   "outputs": [],
   "source": [
    "trainer.load_model(trainer.model, 'data/model/Basenji_dl13_32768_epoch100.pt')"
   ]
  },
  {
   "cell_type": "code",
   "execution_count": null,
   "id": "c0659b78-7de3-4ec5-a0ec-e9b268ed1df7",
   "metadata": {},
   "outputs": [
    {
     "name": "stdout",
     "output_type": "stream",
     "text": [
      "0\n",
      "1\n",
      "2\n",
      "3\n",
      "4\n",
      "5\n",
      "6\n",
      "7\n",
      "8\n",
      "9\n",
      "10\n",
      "11\n",
      "12\n",
      "13\n",
      "14\n",
      "15\n",
      "16\n",
      "17\n"
     ]
    }
   ],
   "source": [
    "trainer.model.train() ### to enable dropout maskmake_loadersal_loader, _ = trainer.make_loaders()\n",
    "sample_size = 30\n",
    "_, val_loader, _ = trainer.make_loaders()\n",
    "val_df = pd.DataFrame()\n",
    "for s in range(sample_size):\n",
    "    print(s)\n",
    "    epoch_df = pd.DataFrame()\n",
    "    for batch in val_loader:\n",
    "        x, rand_x, n, k_s, tr_id, gene_id = batch\n",
    "        x, rand_x, n, k_s = x.to(trainer.device), rand_x.to(trainer.device), n.to(trainer.device), k_s.to(trainer.device)\n",
    "        \n",
    "        out = trainer.model(x)\n",
    "        p = torch.sigmoid(out.detach()).clone().flatten().cpu().tolist()\n",
    "        \n",
    "        out_rand = trainer.model(rand_x)\n",
    "        p_rand = torch.sigmoid(out_rand.detach()).clone().flatten().cpu().tolist()\n",
    "        \n",
    "        if s==0:\n",
    "            y = (k_s / n).detach().clone().flatten().cpu().tolist()\n",
    "            batch_df = pd.DataFrame(zip(y, p, p_rand), index=tr_id, columns=['y', f'p_{s}', f'rand_{s}'])\n",
    "        else:\n",
    "            batch_df = pd.DataFrame(zip(p, p_rand), index=tr_id, columns=[f'p_{s}', f'rand_{s}'])\n",
    "        \n",
    "        epoch_df = pd.concat([epoch_df, batch_df])\n",
    "    if s==0:\n",
    "        val_df = epoch_df\n",
    "    else:\n",
    "        val_df = val_df.join(epoch_df)"
   ]
  },
  {
   "cell_type": "code",
   "execution_count": 11,
   "id": "940b5686-c536-4336-ad44-5f20021cfe5b",
   "metadata": {},
   "outputs": [
    {
     "data": {
      "text/html": [
       "<div>\n",
       "<style scoped>\n",
       "    .dataframe tbody tr th:only-of-type {\n",
       "        vertical-align: middle;\n",
       "    }\n",
       "\n",
       "    .dataframe tbody tr th {\n",
       "        vertical-align: top;\n",
       "    }\n",
       "\n",
       "    .dataframe thead th {\n",
       "        text-align: right;\n",
       "    }\n",
       "</style>\n",
       "<table border=\"1\" class=\"dataframe\">\n",
       "  <thead>\n",
       "    <tr style=\"text-align: right;\">\n",
       "      <th></th>\n",
       "      <th>p_0</th>\n",
       "      <th>rand_0</th>\n",
       "      <th>p_1</th>\n",
       "      <th>rand_1</th>\n",
       "      <th>p_2</th>\n",
       "      <th>rand_2</th>\n",
       "      <th>p_3</th>\n",
       "      <th>rand_3</th>\n",
       "      <th>p_4</th>\n",
       "      <th>rand_4</th>\n",
       "      <th>...</th>\n",
       "      <th>p_25</th>\n",
       "      <th>rand_25</th>\n",
       "      <th>p_26</th>\n",
       "      <th>rand_26</th>\n",
       "      <th>p_27</th>\n",
       "      <th>rand_27</th>\n",
       "      <th>p_28</th>\n",
       "      <th>rand_28</th>\n",
       "      <th>p_29</th>\n",
       "      <th>rand_29</th>\n",
       "    </tr>\n",
       "  </thead>\n",
       "  <tbody>\n",
       "    <tr>\n",
       "      <th>ENST00000395174.6</th>\n",
       "      <td>0.002791</td>\n",
       "      <td>0.014800</td>\n",
       "      <td>0.006117</td>\n",
       "      <td>0.049560</td>\n",
       "      <td>0.006362</td>\n",
       "      <td>0.013748</td>\n",
       "      <td>0.002366</td>\n",
       "      <td>0.077869</td>\n",
       "      <td>0.005516</td>\n",
       "      <td>0.067881</td>\n",
       "      <td>...</td>\n",
       "      <td>0.015023</td>\n",
       "      <td>0.085570</td>\n",
       "      <td>0.006309</td>\n",
       "      <td>0.019224</td>\n",
       "      <td>0.004927</td>\n",
       "      <td>0.029208</td>\n",
       "      <td>0.003788</td>\n",
       "      <td>0.026348</td>\n",
       "      <td>0.005207</td>\n",
       "      <td>0.055094</td>\n",
       "    </tr>\n",
       "    <tr>\n",
       "      <th>ENST00000417905.1</th>\n",
       "      <td>0.001370</td>\n",
       "      <td>0.004182</td>\n",
       "      <td>0.006315</td>\n",
       "      <td>0.004519</td>\n",
       "      <td>0.001861</td>\n",
       "      <td>0.015028</td>\n",
       "      <td>0.002578</td>\n",
       "      <td>0.009756</td>\n",
       "      <td>0.001827</td>\n",
       "      <td>0.008150</td>\n",
       "      <td>...</td>\n",
       "      <td>0.001048</td>\n",
       "      <td>0.005425</td>\n",
       "      <td>0.003151</td>\n",
       "      <td>0.005618</td>\n",
       "      <td>0.002455</td>\n",
       "      <td>0.006621</td>\n",
       "      <td>0.002047</td>\n",
       "      <td>0.004673</td>\n",
       "      <td>0.002359</td>\n",
       "      <td>0.019046</td>\n",
       "    </tr>\n",
       "    <tr>\n",
       "      <th>ENST00000441305.5</th>\n",
       "      <td>0.007805</td>\n",
       "      <td>0.012595</td>\n",
       "      <td>0.020546</td>\n",
       "      <td>0.013034</td>\n",
       "      <td>0.008178</td>\n",
       "      <td>0.116191</td>\n",
       "      <td>0.011957</td>\n",
       "      <td>0.033117</td>\n",
       "      <td>0.008531</td>\n",
       "      <td>0.022839</td>\n",
       "      <td>...</td>\n",
       "      <td>0.007702</td>\n",
       "      <td>0.039755</td>\n",
       "      <td>0.004774</td>\n",
       "      <td>0.016339</td>\n",
       "      <td>0.012464</td>\n",
       "      <td>0.071265</td>\n",
       "      <td>0.014936</td>\n",
       "      <td>0.033067</td>\n",
       "      <td>0.005918</td>\n",
       "      <td>0.017141</td>\n",
       "    </tr>\n",
       "    <tr>\n",
       "      <th>ENST00000404526.6</th>\n",
       "      <td>0.012875</td>\n",
       "      <td>0.005868</td>\n",
       "      <td>0.006790</td>\n",
       "      <td>0.003658</td>\n",
       "      <td>0.020484</td>\n",
       "      <td>0.009595</td>\n",
       "      <td>0.017022</td>\n",
       "      <td>0.009633</td>\n",
       "      <td>0.008848</td>\n",
       "      <td>0.015790</td>\n",
       "      <td>...</td>\n",
       "      <td>0.038033</td>\n",
       "      <td>0.038947</td>\n",
       "      <td>0.033852</td>\n",
       "      <td>0.009064</td>\n",
       "      <td>0.017073</td>\n",
       "      <td>0.019348</td>\n",
       "      <td>0.004772</td>\n",
       "      <td>0.021655</td>\n",
       "      <td>0.007407</td>\n",
       "      <td>0.017143</td>\n",
       "    </tr>\n",
       "    <tr>\n",
       "      <th>ENST00000438369.5</th>\n",
       "      <td>0.005863</td>\n",
       "      <td>0.013501</td>\n",
       "      <td>0.005229</td>\n",
       "      <td>0.008182</td>\n",
       "      <td>0.008091</td>\n",
       "      <td>0.044978</td>\n",
       "      <td>0.035161</td>\n",
       "      <td>0.052088</td>\n",
       "      <td>0.015654</td>\n",
       "      <td>0.030203</td>\n",
       "      <td>...</td>\n",
       "      <td>0.007131</td>\n",
       "      <td>0.041251</td>\n",
       "      <td>0.002630</td>\n",
       "      <td>0.010690</td>\n",
       "      <td>0.015940</td>\n",
       "      <td>0.045440</td>\n",
       "      <td>0.006583</td>\n",
       "      <td>0.032449</td>\n",
       "      <td>0.008657</td>\n",
       "      <td>0.007321</td>\n",
       "    </tr>\n",
       "  </tbody>\n",
       "</table>\n",
       "<p>5 rows × 60 columns</p>\n",
       "</div>"
      ],
      "text/plain": [
       "                        p_0    rand_0       p_1    rand_1       p_2    rand_2  \\\n",
       "ENST00000395174.6  0.002791  0.014800  0.006117  0.049560  0.006362  0.013748   \n",
       "ENST00000417905.1  0.001370  0.004182  0.006315  0.004519  0.001861  0.015028   \n",
       "ENST00000441305.5  0.007805  0.012595  0.020546  0.013034  0.008178  0.116191   \n",
       "ENST00000404526.6  0.012875  0.005868  0.006790  0.003658  0.020484  0.009595   \n",
       "ENST00000438369.5  0.005863  0.013501  0.005229  0.008182  0.008091  0.044978   \n",
       "\n",
       "                        p_3    rand_3       p_4    rand_4  ...      p_25  \\\n",
       "ENST00000395174.6  0.002366  0.077869  0.005516  0.067881  ...  0.015023   \n",
       "ENST00000417905.1  0.002578  0.009756  0.001827  0.008150  ...  0.001048   \n",
       "ENST00000441305.5  0.011957  0.033117  0.008531  0.022839  ...  0.007702   \n",
       "ENST00000404526.6  0.017022  0.009633  0.008848  0.015790  ...  0.038033   \n",
       "ENST00000438369.5  0.035161  0.052088  0.015654  0.030203  ...  0.007131   \n",
       "\n",
       "                    rand_25      p_26   rand_26      p_27   rand_27      p_28  \\\n",
       "ENST00000395174.6  0.085570  0.006309  0.019224  0.004927  0.029208  0.003788   \n",
       "ENST00000417905.1  0.005425  0.003151  0.005618  0.002455  0.006621  0.002047   \n",
       "ENST00000441305.5  0.039755  0.004774  0.016339  0.012464  0.071265  0.014936   \n",
       "ENST00000404526.6  0.038947  0.033852  0.009064  0.017073  0.019348  0.004772   \n",
       "ENST00000438369.5  0.041251  0.002630  0.010690  0.015940  0.045440  0.006583   \n",
       "\n",
       "                    rand_28      p_29   rand_29  \n",
       "ENST00000395174.6  0.026348  0.005207  0.055094  \n",
       "ENST00000417905.1  0.004673  0.002359  0.019046  \n",
       "ENST00000441305.5  0.033067  0.005918  0.017141  \n",
       "ENST00000404526.6  0.021655  0.007407  0.017143  \n",
       "ENST00000438369.5  0.032449  0.008657  0.007321  \n",
       "\n",
       "[5 rows x 60 columns]"
      ]
     },
     "execution_count": 11,
     "metadata": {},
     "output_type": "execute_result"
    }
   ],
   "source": [
    "val_df.head()"
   ]
  },
  {
   "cell_type": "code",
   "execution_count": 22,
   "id": "2afa3a58-0b10-44c9-a4a4-d684edf6efbb",
   "metadata": {},
   "outputs": [],
   "source": [
    "val_p = val_df.filter(like='p_')"
   ]
  },
  {
   "cell_type": "code",
   "execution_count": null,
   "id": "f12a9fc4-6794-4ef2-a51b-3e48b13e06a0",
   "metadata": {},
   "outputs": [],
   "source": [
    "val_p['mean'] = val_p.mean(axis=1)\n",
    "val_p['std'] = val_p.std(axis=1)"
   ]
  },
  {
   "cell_type": "code",
   "execution_count": 24,
   "id": "673e6a69-1d16-4d31-84f4-d18a6a392367",
   "metadata": {},
   "outputs": [
    {
     "data": {
      "text/plain": [
       "count    2603.000000\n",
       "mean        0.168527\n",
       "std         0.201355\n",
       "min         0.000997\n",
       "25%         0.016800\n",
       "50%         0.066328\n",
       "75%         0.272265\n",
       "max         0.892871\n",
       "Name: mean, dtype: float64"
      ]
     },
     "execution_count": 24,
     "metadata": {},
     "output_type": "execute_result"
    }
   ],
   "source": [
    "val_p['mean'].describe()"
   ]
  },
  {
   "cell_type": "code",
   "execution_count": 25,
   "id": "f66023b0-9e61-40e7-b8ce-f199b2493fa1",
   "metadata": {},
   "outputs": [
    {
     "data": {
      "text/plain": [
       "count    2603.000000\n",
       "mean        0.043669\n",
       "std         0.038071\n",
       "min         0.000478\n",
       "25%         0.008207\n",
       "50%         0.030381\n",
       "75%         0.078026\n",
       "max         0.153227\n",
       "Name: std, dtype: float64"
      ]
     },
     "execution_count": 25,
     "metadata": {},
     "output_type": "execute_result"
    }
   ],
   "source": [
    "val_p['std'].describe()"
   ]
  },
  {
   "cell_type": "code",
   "execution_count": 27,
   "id": "c96b5193-fa9e-428e-92dc-765e2ab58d4c",
   "metadata": {},
   "outputs": [
    {
     "data": {
      "text/html": [
       "<div>\n",
       "<style scoped>\n",
       "    .dataframe tbody tr th:only-of-type {\n",
       "        vertical-align: middle;\n",
       "    }\n",
       "\n",
       "    .dataframe tbody tr th {\n",
       "        vertical-align: top;\n",
       "    }\n",
       "\n",
       "    .dataframe thead th {\n",
       "        text-align: right;\n",
       "    }\n",
       "</style>\n",
       "<table border=\"1\" class=\"dataframe\">\n",
       "  <thead>\n",
       "    <tr style=\"text-align: right;\">\n",
       "      <th></th>\n",
       "      <th>p_0</th>\n",
       "      <th>p_1</th>\n",
       "      <th>p_2</th>\n",
       "      <th>p_3</th>\n",
       "      <th>p_4</th>\n",
       "      <th>p_5</th>\n",
       "      <th>p_6</th>\n",
       "      <th>p_7</th>\n",
       "      <th>p_8</th>\n",
       "      <th>p_9</th>\n",
       "      <th>...</th>\n",
       "      <th>p_22</th>\n",
       "      <th>p_23</th>\n",
       "      <th>p_24</th>\n",
       "      <th>p_25</th>\n",
       "      <th>p_26</th>\n",
       "      <th>p_27</th>\n",
       "      <th>p_28</th>\n",
       "      <th>p_29</th>\n",
       "      <th>mean</th>\n",
       "      <th>std</th>\n",
       "    </tr>\n",
       "  </thead>\n",
       "  <tbody>\n",
       "    <tr>\n",
       "      <th>ENST00000395174.6</th>\n",
       "      <td>0.002791</td>\n",
       "      <td>0.006117</td>\n",
       "      <td>0.006362</td>\n",
       "      <td>0.002366</td>\n",
       "      <td>0.005516</td>\n",
       "      <td>0.005774</td>\n",
       "      <td>0.007658</td>\n",
       "      <td>0.012224</td>\n",
       "      <td>0.005537</td>\n",
       "      <td>0.001362</td>\n",
       "      <td>...</td>\n",
       "      <td>0.015686</td>\n",
       "      <td>0.002790</td>\n",
       "      <td>0.010834</td>\n",
       "      <td>0.015023</td>\n",
       "      <td>0.006309</td>\n",
       "      <td>0.004927</td>\n",
       "      <td>0.003788</td>\n",
       "      <td>0.005207</td>\n",
       "      <td>0.006815</td>\n",
       "      <td>0.004211</td>\n",
       "    </tr>\n",
       "    <tr>\n",
       "      <th>ENST00000417905.1</th>\n",
       "      <td>0.001370</td>\n",
       "      <td>0.006315</td>\n",
       "      <td>0.001861</td>\n",
       "      <td>0.002578</td>\n",
       "      <td>0.001827</td>\n",
       "      <td>0.003596</td>\n",
       "      <td>0.005638</td>\n",
       "      <td>0.001968</td>\n",
       "      <td>0.005707</td>\n",
       "      <td>0.002614</td>\n",
       "      <td>...</td>\n",
       "      <td>0.004219</td>\n",
       "      <td>0.002155</td>\n",
       "      <td>0.003126</td>\n",
       "      <td>0.001048</td>\n",
       "      <td>0.003151</td>\n",
       "      <td>0.002455</td>\n",
       "      <td>0.002047</td>\n",
       "      <td>0.002359</td>\n",
       "      <td>0.003307</td>\n",
       "      <td>0.001561</td>\n",
       "    </tr>\n",
       "    <tr>\n",
       "      <th>ENST00000441305.5</th>\n",
       "      <td>0.007805</td>\n",
       "      <td>0.020546</td>\n",
       "      <td>0.008178</td>\n",
       "      <td>0.011957</td>\n",
       "      <td>0.008531</td>\n",
       "      <td>0.019909</td>\n",
       "      <td>0.004919</td>\n",
       "      <td>0.006670</td>\n",
       "      <td>0.005019</td>\n",
       "      <td>0.005993</td>\n",
       "      <td>...</td>\n",
       "      <td>0.011689</td>\n",
       "      <td>0.009028</td>\n",
       "      <td>0.025613</td>\n",
       "      <td>0.007702</td>\n",
       "      <td>0.004774</td>\n",
       "      <td>0.012464</td>\n",
       "      <td>0.014936</td>\n",
       "      <td>0.005918</td>\n",
       "      <td>0.010520</td>\n",
       "      <td>0.005063</td>\n",
       "    </tr>\n",
       "    <tr>\n",
       "      <th>ENST00000404526.6</th>\n",
       "      <td>0.012875</td>\n",
       "      <td>0.006790</td>\n",
       "      <td>0.020484</td>\n",
       "      <td>0.017022</td>\n",
       "      <td>0.008848</td>\n",
       "      <td>0.014497</td>\n",
       "      <td>0.021427</td>\n",
       "      <td>0.033803</td>\n",
       "      <td>0.019275</td>\n",
       "      <td>0.009617</td>\n",
       "      <td>...</td>\n",
       "      <td>0.016718</td>\n",
       "      <td>0.010624</td>\n",
       "      <td>0.017420</td>\n",
       "      <td>0.038033</td>\n",
       "      <td>0.033852</td>\n",
       "      <td>0.017073</td>\n",
       "      <td>0.004772</td>\n",
       "      <td>0.007407</td>\n",
       "      <td>0.017357</td>\n",
       "      <td>0.008873</td>\n",
       "    </tr>\n",
       "    <tr>\n",
       "      <th>ENST00000438369.5</th>\n",
       "      <td>0.005863</td>\n",
       "      <td>0.005229</td>\n",
       "      <td>0.008091</td>\n",
       "      <td>0.035161</td>\n",
       "      <td>0.015654</td>\n",
       "      <td>0.006147</td>\n",
       "      <td>0.011393</td>\n",
       "      <td>0.013986</td>\n",
       "      <td>0.011034</td>\n",
       "      <td>0.020851</td>\n",
       "      <td>...</td>\n",
       "      <td>0.008682</td>\n",
       "      <td>0.021442</td>\n",
       "      <td>0.009434</td>\n",
       "      <td>0.007131</td>\n",
       "      <td>0.002630</td>\n",
       "      <td>0.015940</td>\n",
       "      <td>0.006583</td>\n",
       "      <td>0.008657</td>\n",
       "      <td>0.011398</td>\n",
       "      <td>0.006962</td>\n",
       "    </tr>\n",
       "  </tbody>\n",
       "</table>\n",
       "<p>5 rows × 32 columns</p>\n",
       "</div>"
      ],
      "text/plain": [
       "                        p_0       p_1       p_2       p_3       p_4       p_5  \\\n",
       "ENST00000395174.6  0.002791  0.006117  0.006362  0.002366  0.005516  0.005774   \n",
       "ENST00000417905.1  0.001370  0.006315  0.001861  0.002578  0.001827  0.003596   \n",
       "ENST00000441305.5  0.007805  0.020546  0.008178  0.011957  0.008531  0.019909   \n",
       "ENST00000404526.6  0.012875  0.006790  0.020484  0.017022  0.008848  0.014497   \n",
       "ENST00000438369.5  0.005863  0.005229  0.008091  0.035161  0.015654  0.006147   \n",
       "\n",
       "                        p_6       p_7       p_8       p_9  ...      p_22  \\\n",
       "ENST00000395174.6  0.007658  0.012224  0.005537  0.001362  ...  0.015686   \n",
       "ENST00000417905.1  0.005638  0.001968  0.005707  0.002614  ...  0.004219   \n",
       "ENST00000441305.5  0.004919  0.006670  0.005019  0.005993  ...  0.011689   \n",
       "ENST00000404526.6  0.021427  0.033803  0.019275  0.009617  ...  0.016718   \n",
       "ENST00000438369.5  0.011393  0.013986  0.011034  0.020851  ...  0.008682   \n",
       "\n",
       "                       p_23      p_24      p_25      p_26      p_27      p_28  \\\n",
       "ENST00000395174.6  0.002790  0.010834  0.015023  0.006309  0.004927  0.003788   \n",
       "ENST00000417905.1  0.002155  0.003126  0.001048  0.003151  0.002455  0.002047   \n",
       "ENST00000441305.5  0.009028  0.025613  0.007702  0.004774  0.012464  0.014936   \n",
       "ENST00000404526.6  0.010624  0.017420  0.038033  0.033852  0.017073  0.004772   \n",
       "ENST00000438369.5  0.021442  0.009434  0.007131  0.002630  0.015940  0.006583   \n",
       "\n",
       "                       p_29      mean       std  \n",
       "ENST00000395174.6  0.005207  0.006815  0.004211  \n",
       "ENST00000417905.1  0.002359  0.003307  0.001561  \n",
       "ENST00000441305.5  0.005918  0.010520  0.005063  \n",
       "ENST00000404526.6  0.007407  0.017357  0.008873  \n",
       "ENST00000438369.5  0.008657  0.011398  0.006962  \n",
       "\n",
       "[5 rows x 32 columns]"
      ]
     },
     "execution_count": 27,
     "metadata": {},
     "output_type": "execute_result"
    }
   ],
   "source": [
    "val_p.head()"
   ]
  },
  {
   "cell_type": "code",
   "execution_count": 29,
   "id": "24d5e731-241c-4696-83db-152ad9d91224",
   "metadata": {},
   "outputs": [],
   "source": [
    "data = pd.read_pickle(data_path)"
   ]
  },
  {
   "cell_type": "code",
   "execution_count": 31,
   "id": "10b1a774-ad2e-4be2-ac80-f50108ccec94",
   "metadata": {},
   "outputs": [],
   "source": [
    "data.drop(columns=['seq', 'len', 'is_exon'], inplace=True)"
   ]
  },
  {
   "cell_type": "code",
   "execution_count": 34,
   "id": "e05bb2f6-9dfe-4040-8350-f91e9f47ebef",
   "metadata": {},
   "outputs": [],
   "source": [
    "data.set_index('tr_id', inplace=True)"
   ]
  },
  {
   "cell_type": "code",
   "execution_count": 35,
   "id": "ce22dbf4-018a-4e68-95b3-93cfe4766dbe",
   "metadata": {},
   "outputs": [],
   "source": [
    "data.rename({'xlr': 'k_s', 'total_reads': 'n'}, axis=1, inplace=True)"
   ]
  },
  {
   "cell_type": "code",
   "execution_count": 36,
   "id": "4ccf820b-478c-42c4-a7a3-4d8e2673eabe",
   "metadata": {},
   "outputs": [],
   "source": [
    "val_p = val_p[['mean', 'std']].join(data)"
   ]
  },
  {
   "cell_type": "code",
   "execution_count": 38,
   "id": "20bde9d0-dcd3-48a5-9bbc-15bc4ff5c665",
   "metadata": {},
   "outputs": [],
   "source": [
    "val_p['p_true'] = val_p.k_s / val_p.n"
   ]
  },
  {
   "cell_type": "code",
   "execution_count": 39,
   "id": "c31cae7d-6532-44b8-9bc8-9e55017a3fed",
   "metadata": {},
   "outputs": [
    {
     "data": {
      "text/html": [
       "<div>\n",
       "<style scoped>\n",
       "    .dataframe tbody tr th:only-of-type {\n",
       "        vertical-align: middle;\n",
       "    }\n",
       "\n",
       "    .dataframe tbody tr th {\n",
       "        vertical-align: top;\n",
       "    }\n",
       "\n",
       "    .dataframe thead th {\n",
       "        text-align: right;\n",
       "    }\n",
       "</style>\n",
       "<table border=\"1\" class=\"dataframe\">\n",
       "  <thead>\n",
       "    <tr style=\"text-align: right;\">\n",
       "      <th></th>\n",
       "      <th>mean</th>\n",
       "      <th>std</th>\n",
       "      <th>gene_id</th>\n",
       "      <th>k_s</th>\n",
       "      <th>n</th>\n",
       "      <th>p_true</th>\n",
       "    </tr>\n",
       "  </thead>\n",
       "  <tbody>\n",
       "    <tr>\n",
       "      <th>ENST00000395174.6</th>\n",
       "      <td>0.006815</td>\n",
       "      <td>0.004211</td>\n",
       "      <td>ENSG00000003756.17</td>\n",
       "      <td>1</td>\n",
       "      <td>94</td>\n",
       "      <td>0.010638</td>\n",
       "    </tr>\n",
       "    <tr>\n",
       "      <th>ENST00000417905.1</th>\n",
       "      <td>0.003307</td>\n",
       "      <td>0.001561</td>\n",
       "      <td>ENSG00000003756.17</td>\n",
       "      <td>0</td>\n",
       "      <td>94</td>\n",
       "      <td>0.000000</td>\n",
       "    </tr>\n",
       "    <tr>\n",
       "      <th>ENST00000441305.5</th>\n",
       "      <td>0.010520</td>\n",
       "      <td>0.005063</td>\n",
       "      <td>ENSG00000003756.17</td>\n",
       "      <td>0</td>\n",
       "      <td>94</td>\n",
       "      <td>0.000000</td>\n",
       "    </tr>\n",
       "    <tr>\n",
       "      <th>ENST00000404526.6</th>\n",
       "      <td>0.017357</td>\n",
       "      <td>0.008873</td>\n",
       "      <td>ENSG00000003756.17</td>\n",
       "      <td>0</td>\n",
       "      <td>94</td>\n",
       "      <td>0.000000</td>\n",
       "    </tr>\n",
       "    <tr>\n",
       "      <th>ENST00000438369.5</th>\n",
       "      <td>0.011398</td>\n",
       "      <td>0.006962</td>\n",
       "      <td>ENSG00000003756.17</td>\n",
       "      <td>0</td>\n",
       "      <td>94</td>\n",
       "      <td>0.000000</td>\n",
       "    </tr>\n",
       "  </tbody>\n",
       "</table>\n",
       "</div>"
      ],
      "text/plain": [
       "                       mean       std             gene_id  k_s   n    p_true\n",
       "ENST00000395174.6  0.006815  0.004211  ENSG00000003756.17    1  94  0.010638\n",
       "ENST00000417905.1  0.003307  0.001561  ENSG00000003756.17    0  94  0.000000\n",
       "ENST00000441305.5  0.010520  0.005063  ENSG00000003756.17    0  94  0.000000\n",
       "ENST00000404526.6  0.017357  0.008873  ENSG00000003756.17    0  94  0.000000\n",
       "ENST00000438369.5  0.011398  0.006962  ENSG00000003756.17    0  94  0.000000"
      ]
     },
     "execution_count": 39,
     "metadata": {},
     "output_type": "execute_result"
    }
   ],
   "source": [
    "val_p.head()"
   ]
  },
  {
   "cell_type": "code",
   "execution_count": 40,
   "id": "7a32f6ae-cff6-4998-8633-1f31fd549a67",
   "metadata": {},
   "outputs": [],
   "source": [
    "from scipy import stats\n",
    "import matplotlib.pyplot as plt"
   ]
  },
  {
   "cell_type": "code",
   "execution_count": 41,
   "id": "f491c307-cd86-47b4-96c7-63adeedac8ea",
   "metadata": {},
   "outputs": [
    {
     "data": {
      "text/plain": [
       "SpearmanrResult(correlation=0.5213488627366151, pvalue=2.1387494312257985e-181)"
      ]
     },
     "execution_count": 41,
     "metadata": {},
     "output_type": "execute_result"
    }
   ],
   "source": [
    "stats.spearmanr(val_p[['mean', 'p_true']])"
   ]
  },
  {
   "cell_type": "code",
   "execution_count": 53,
   "id": "a04eb91f-0662-4085-b343-e7e70119004d",
   "metadata": {},
   "outputs": [],
   "source": [
    "val_p['diff'] = np.abs(val_p['mean'] - val_p['p_true'])"
   ]
  },
  {
   "cell_type": "code",
   "execution_count": 56,
   "id": "0f178b91-c38f-45a1-b9c4-d8f6a982b264",
   "metadata": {},
   "outputs": [
    {
     "data": {
      "text/plain": [
       "count    2603.000000\n",
       "mean        0.171974\n",
       "std         0.214380\n",
       "min         0.000333\n",
       "25%         0.017135\n",
       "50%         0.065739\n",
       "75%         0.265810\n",
       "max         0.997568\n",
       "Name: diff, dtype: float64"
      ]
     },
     "execution_count": 56,
     "metadata": {},
     "output_type": "execute_result"
    }
   ],
   "source": [
    "val_p['diff'].describe()"
   ]
  },
  {
   "cell_type": "code",
   "execution_count": 58,
   "id": "4c58edfb-fb56-49f9-b9db-3df60a2663e2",
   "metadata": {},
   "outputs": [
    {
     "data": {
      "text/plain": [
       "(0.6107291846117046, 5.801240249014677e-266)"
      ]
     },
     "execution_count": 58,
     "metadata": {},
     "output_type": "execute_result"
    }
   ],
   "source": [
    "stats.pearsonr(val_p['diff'], val_p['std'])"
   ]
  },
  {
   "cell_type": "code",
   "execution_count": 57,
   "id": "29371828-2cae-48ca-a3c9-11a89b21e58b",
   "metadata": {},
   "outputs": [
    {
     "data": {
      "text/plain": [
       "<matplotlib.collections.PathCollection at 0x7f61e9f812b0>"
      ]
     },
     "execution_count": 57,
     "metadata": {},
     "output_type": "execute_result"
    },
    {
     "data": {
      "image/png": "[encoded data removed]",
      "text/plain": [
       "<Figure size 432x288 with 1 Axes>"
      ]
     },
     "metadata": {
      "needs_background": "light"
     },
     "output_type": "display_data"
    }
   ],
   "source": [
    "plt.scatter(val_p['diff'], val_p['std'])"
   ]
  },
  {
   "cell_type": "code",
   "execution_count": 59,
   "id": "0fb24931-caf8-4cbc-b40b-6201ff57be3b",
   "metadata": {},
   "outputs": [
    {
     "data": {
      "text/plain": [
       "<matplotlib.collections.PathCollection at 0x7f61e9f4ff70>"
      ]
     },
     "execution_count": 59,
     "metadata": {},
     "output_type": "execute_result"
    },
    {
     "data": {
      "image/png": "[encoded data removed]",
      "text/plain": [
       "<Figure size 432x288 with 1 Axes>"
      ]
     },
     "metadata": {
      "needs_background": "light"
     },
     "output_type": "display_data"
    }
   ],
   "source": [
    "plt.scatter(val_p[val_p['p_true']==0]['diff'], val_p[val_p['p_true']==0]['std'])"
   ]
  },
  {
   "cell_type": "code",
   "execution_count": 60,
   "id": "812d187a-afef-408c-9759-5a349a90a963",
   "metadata": {},
   "outputs": [
    {
     "data": {
      "text/plain": [
       "<matplotlib.collections.PathCollection at 0x7f61e9fae310>"
      ]
     },
     "execution_count": 60,
     "metadata": {},
     "output_type": "execute_result"
    },
    {
     "data": {
      "image/png": "[encoded data removed]",
      "text/plain": [
       "<Figure size 432x288 with 1 Axes>"
      ]
     },
     "metadata": {
      "needs_background": "light"
     },
     "output_type": "display_data"
    }
   ],
   "source": [
    "plt.scatter(val_p[val_p['p_true']==1]['diff'], val_p[val_p['p_true']==1]['std'])"
   ]
  },
  {
   "cell_type": "code",
   "execution_count": 46,
   "id": "7a39f169-0fa2-4168-8edd-7c2b84a954bf",
   "metadata": {},
   "outputs": [
    {
     "data": {
      "text/plain": [
       "<matplotlib.collections.PathCollection at 0x7f61ea037b20>"
      ]
     },
     "execution_count": 46,
     "metadata": {},
     "output_type": "execute_result"
    },
    {
     "data": {
      "image/png": "[encoded data removed]",
      "text/plain": [
       "<Figure size 432x288 with 1 Axes>"
      ]
     },
     "metadata": {
      "needs_background": "light"
     },
     "output_type": "display_data"
    }
   ],
   "source": [
    "plt.scatter(val_p['n'], val_p['std'])"
   ]
  },
  {
   "cell_type": "code",
   "execution_count": 47,
   "id": "e74869f9-ad2e-4a3e-8ce7-8bd12fb16825",
   "metadata": {},
   "outputs": [
    {
     "data": {
      "text/plain": [
       "<matplotlib.collections.PathCollection at 0x7f61ea01b220>"
      ]
     },
     "execution_count": 47,
     "metadata": {},
     "output_type": "execute_result"
    },
    {
     "data": {
      "image/png": "[encoded data removed]",
      "text/plain": [
       "<Figure size 432x288 with 1 Axes>"
      ]
     },
     "metadata": {
      "needs_background": "light"
     },
     "output_type": "display_data"
    }
   ],
   "source": [
    "plt.scatter(val_p['p_true'], val_p['std'])"
   ]
  },
  {
   "cell_type": "code",
   "execution_count": 48,
   "id": "739fa052-ebb3-4697-9e31-b25148269cbf",
   "metadata": {},
   "outputs": [
    {
     "data": {
      "text/plain": [
       "<matplotlib.collections.PathCollection at 0x7f61e9fcec40>"
      ]
     },
     "execution_count": 48,
     "metadata": {},
     "output_type": "execute_result"
    },
    {
     "data": {
      "image/png": "[encoded data removed]",
      "text/plain": [
       "<Figure size 432x288 with 1 Axes>"
      ]
     },
     "metadata": {
      "needs_background": "light"
     },
     "output_type": "display_data"
    }
   ],
   "source": [
    "plt.scatter(val_p['k_s'], val_p['std'])"
   ]
  },
  {
   "cell_type": "code",
   "execution_count": 65,
   "id": "51a61e43-89a4-4e9a-8f68-6fdfc0220967",
   "metadata": {},
   "outputs": [],
   "source": [
    "from ray import tune\n",
    "from ray.tune.schedulers import ASHAScheduler\n",
    "from hyperopt import hp\n",
    "from ray.tune.suggest.hyperopt import HyperOptSearch"
   ]
  },
  {
   "cell_type": "code",
   "execution_count": null,
   "id": "954c8f83-09ce-4818-b0ad-98f505eb8f41",
   "metadata": {},
   "outputs": [],
   "source": [
    "search_space = {\n",
    "    'lr': tune.sample_from(lambda spec: 10**(-10 * np.random.rand())),\n",
    "    'momentum': tune.uniform(0.1, 0.9)\n",
    "    ## kernel sizes\n",
    "    ## number of convolution layers\n",
    "    ## dropout rates\n",
    "    ## regularization coeffs\n",
    "}"
   ]
  },
  {
   "cell_type": "code",
   "execution_count": null,
   "id": "f1fdce27-4eda-4809-b1e9-0d2132d039e9",
   "metadata": {},
   "outputs": [],
   "source": [
    "trainer.config = search_space\n",
    "tune.run(trainer.train,\n",
    "         num_samples=20,\n",
    "         scheduler=ASHAScheduler(metric='speaman_cor', mode='max'),\n",
    "         config=trainer.config)"
   ]
  }
 ],
 "metadata": {
  "kernelspec": {
   "display_name": "Python 3 (ipykernel)",
   "language": "python",
   "name": "python3"
  },
  "language_info": {
   "codemirror_mode": {
    "name": "ipython",
    "version": 3
   },
   "file_extension": ".py",
   "mimetype": "text/x-python",
   "name": "python",
   "nbconvert_exporter": "python",
   "pygments_lexer": "ipython3",
   "version": "3.8.10"
  }
 },
 "nbformat": 4,
 "nbformat_minor": 5
}
